{
 "cells": [
  {
   "cell_type": "code",
   "execution_count": 7,
   "metadata": {
    "collapsed": true
   },
   "outputs": [],
   "source": [
    "def diffusive(scale,ndim,time,epsilon=1e-7):\n",
    "        \n",
    "    mus1 = np.zeros((ndim))\n",
    "    rho1 = np.random.random(1+(ndim-2)*2) + epsilon\n",
    "    sigmas1 = scale*np.random.random(1) + epsilon\n",
    "\n",
    "\n",
    "    cov = sigmas1 * np.eye(ndim) + epsilon\n",
    "    \n",
    "    return np.cumsum(numpy.random.multivariate_normal(mus1,cov,time),axis=0)\n"
   ]
  },
  {
   "cell_type": "code",
   "execution_count": 13,
   "metadata": {
    "collapsed": false
   },
   "outputs": [],
   "source": [
    "from Tools import generate_traj,random_rot,traj_to_dist\n",
    "from scitool.propertie import Propertie\n",
    "\n",
    "def add_miss_tracking(traj,N,f=10):\n",
    "    \n",
    "    step = traj[1:]-traj[:-1]\n",
    "    \n",
    "    std = np.average(np.sum(step**2,axis=1)**0.5)\n",
    "    \n",
    "    for i in range(N):\n",
    "        w = np.random.randint(0,len(traj))\n",
    "        traj[w] = np.random.normal(traj[w],f*std)\n",
    "    \n",
    "    return traj\n",
    "\n",
    "\n",
    "def generate_N_nstep(N,nstep,ndim=2,sub=False):\n",
    "    add = 0\n",
    "    if ndim == 3:\n",
    "        add = 1\n",
    "    size = nstep\n",
    "    \n",
    "    X_train = np.zeros((N,size,(5+add)))\n",
    "    Y_trains = np.zeros((N,size,10))\n",
    "    Y_train_cat = np.zeros((N,1,27))\n",
    "    Y_train_traj = []\n",
    "\n",
    "    #12\n",
    "    for i in range(N):\n",
    "    #for i in range(1000):\n",
    "\n",
    "        #if i % 1000 == 0:\n",
    "        #    print i\n",
    "        sigma = max(np.random.normal(0.5,1),0.05)\n",
    "        step = max(np.random.normal(1,1),0.2)\n",
    "        tryagain = True\n",
    "        while tryagain:\n",
    "            try:\n",
    "\n",
    "         \n",
    "                clean = 4\n",
    "                if size >=50:\n",
    "                    clean = 8\n",
    "                    \n",
    "                clean = False\n",
    "                \"\"\"\n",
    "                ModelN,Model_num,s,sc,real_traj,norm,Z = generate_traj(size,sub=True,\n",
    "                                                                       clean=clean,diff_sigma=2.0,\n",
    "                                                                       delta_sigma_directed=1.,ndim=ndim,\n",
    "                                                                      anisentropy=0.1,deltav=0.2,rho_fixed=False)\n",
    "                \"\"\"\n",
    "                clean=10\n",
    "                \n",
    "                \n",
    "                \n",
    "                real_traj = diffusive(1,2,size+1)\n",
    "                \n",
    "                real_traj[:10] *= 2\n",
    "                real_traj[-10:] *= 2\n",
    "                ModelN = 2\n",
    "                Model_num = 2\n",
    "                sc = [0] * size\n",
    "                s = sc\n",
    "                Z = []\n",
    "                \n",
    "                \n",
    "                mu=2\n",
    "                Ra0 = [0,1.]\n",
    "             \n",
    "                \n",
    "                alpharot = 2*3.14*np.random.random()\n",
    "                \n",
    "                dt = real_traj[1:]-real_traj[:-1]\n",
    "                std = np.mean(np.sum(dt**2,axis=1)/3)**0.5\n",
    "                \n",
    "                \n",
    "                noise_level = .25*np.random.rand()\n",
    "                real_traj += np.random.normal(0,noise_level*std,real_traj.shape)\n",
    "                \n",
    "                real_traj  = random_rot(real_traj,alpharot,ndim=ndim)\n",
    "                \n",
    "\n",
    "                \n",
    "                #print real_traj.shape\n",
    "                alligned_traj,normed,alpha,_ = traj_to_dist(real_traj,ndim=ndim)\n",
    "                simple=True\n",
    "                if not simple:\n",
    "                    real_traj1 = np.array([Propertie(real_traj[::,0]).smooth(2),\n",
    "                                           Propertie(real_traj[::,1]).smooth(2)])\n",
    "                    alligned_traj1,normed1,alpha1,_ = traj_to_dist(real_traj1.T,ndim=ndim)\n",
    "                    real_traj2 = np.array([Propertie(real_traj[::,0]).smooth(5),\n",
    "                                           Propertie(real_traj[::,1]).smooth(5)])\n",
    "                    alligned_traj2,normed2,alpha2,_ = traj_to_dist(real_traj2.T,ndim=ndim)\n",
    "\n",
    "                    normed = np.concatenate((normed[::,:4],normed1[::,:4],normed2),axis=1)\n",
    "\n",
    "                for zero in Z:\n",
    "                    normed[zero,::] = 0\n",
    "            \n",
    "                tryagain=False\n",
    "                \n",
    "                \n",
    "            except IndexError:\n",
    "                tryagain=True\n",
    "                \n",
    "        Y_train_traj.append(real_traj)\n",
    "        X_train[i] = normed\n",
    "      \n",
    "        Y_trains[i][range(size),np.array(sc,dtype=np.int)] = 1\n",
    "     \n",
    "        Y_train_cat[i,0,Model_num] = 1\n",
    "        \n",
    "    \n",
    "    return X_train,Y_trains,Y_train_cat,Y_train_traj\n",
    "\n",
    "Normed = generate_N_nstep(1000,100)[0]"
   ]
  },
  {
   "cell_type": "code",
   "execution_count": 44,
   "metadata": {
    "collapsed": true
   },
   "outputs": [],
   "source": [
    "Normed = generate_N_nstep(1000,200)[0]"
   ]
  },
  {
   "cell_type": "code",
   "execution_count": 45,
   "metadata": {
    "collapsed": false
   },
   "outputs": [],
   "source": [
    "from Specialist_layer import return_layer_paper\n",
    "\n",
    "graph = return_layer_paper(n_layers=4,simple=False,inputsize=5)\n",
    "graph_simplo = return_layer_paper(n_layers=4,simple=True,inputsize=5)\n",
    "\n",
    "graph_simplo.load_weights(\"weight-folder/4layer-LSTM-simple_7_140\")\n",
    "graph.load_weights(\"/home/jarbona/cluster_theano/weight-folder/4layer-LSTM_7_140\")"
   ]
  },
  {
   "cell_type": "code",
   "execution_count": 46,
   "metadata": {
    "collapsed": false
   },
   "outputs": [],
   "source": [
    "p = graph.predict({\"input1\":np.array([t for t in Normed])},batch_size=50)\n",
    "ps = graph_simplo.predict({\"input1\":np.array([t for t in Normed])},batch_size=50)"
   ]
  },
  {
   "cell_type": "code",
   "execution_count": 47,
   "metadata": {
    "collapsed": false
   },
   "outputs": [
    {
     "data": {
      "image/png": "[encoded data removed]",
      "text/plain": [
       "<matplotlib.figure.Figure at 0x7f3cf9a184d0>"
      ]
     },
     "metadata": {},
     "output_type": "display_data"
    }
   ],
   "source": [
    "title(\"LSTM\")\n",
    "hist(np.argmax(p[\"category\"],axis=-1),range=[-0.5,11.5],bins=12)\n",
    "xlim(-0.5,11.5)\n",
    "t = xticks(np.arange(0,12,1),M0,rotation=90)"
   ]
  },
  {
   "cell_type": "code",
   "execution_count": 48,
   "metadata": {
    "collapsed": false
   },
   "outputs": [
    {
     "data": {
      "image/png": "[encoded data removed]",
      "text/plain": [
       "<matplotlib.figure.Figure at 0x7f3cfc762ad0>"
      ]
     },
     "metadata": {},
     "output_type": "display_data"
    }
   ],
   "source": [
    "from Tools import M0\n",
    "title(\"RNN\")\n",
    "hist(np.argmax(ps[\"category\"],axis=-1),range=[-0.5,11.5],bins=12)\n",
    "xlim(-0.5,11.5)\n",
    "t = xticks(np.arange(0,12,1),M0,rotation=90)"
   ]
  }
 ],
 "metadata": {
  "kernelspec": {
   "display_name": "Python 2",
   "language": "python",
   "name": "python2"
  },
  "language_info": {
   "codemirror_mode": {
    "name": "ipython",
    "version": 2
   },
   "file_extension": ".py",
   "mimetype": "text/x-python",
   "name": "python",
   "nbconvert_exporter": "python",
   "pygments_lexer": "ipython2",
   "version": "2.7.9"
  }
 },
 "nbformat": 4,
 "nbformat_minor": 0
}
